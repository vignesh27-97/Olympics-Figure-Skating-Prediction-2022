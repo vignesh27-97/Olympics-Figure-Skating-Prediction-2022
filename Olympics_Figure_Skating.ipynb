{
 "cells": [
  {
   "cell_type": "markdown",
   "id": "77f93dcd-055b-455a-999e-091be0642610",
   "metadata": {},
   "source": [
    "<div style=\"text-align: right\">INFO 6105 - Data Science Eng Methods and Tools</div>\n",
    "<div style=\"text-align: right\">Assignment 6</div>\n",
    "<div style=\"text-align: right\">Vignesh Kumar Baskar [002196442]</div>\n",
    "\n",
    "**Figure Skating Analytics**\n",
    "\n",
    "I have got the Olympics Skating data and created as a data frame for viewing the top 2 skaters for US, Canada, Russia, Japan, Italy and China for the both Mens and Womens categories. \n",
    "\n",
    "**Questions**\n",
    "\n",
    "1. What is the probability for the US to win both the men's and the women's event?\n",
    "   What is the probability for the US to win at least one of these two events?\n",
    "   \n",
    "2. If the US wins the men's event, what is the probability that the US wins the women's event? If the US wins at least one of these two events, what is the probability the US wins both events (not necessarily the first one)? How about Canada, China, and the ROC? Which nations are more likely to win both events if they win one of them?\n",
    "\n",
    "3. The US wins at least one of these two events the same day that the US team of the same sex wins the hockey event gold medal. What is the probability the US wins both events assuming that the teams in contention to win the gold medal for the hockey event for both men and women are USA, China, Russia, Canada, and Japan and that men and women teams have the same probability to win hockey gold?\n",
    "\n",
    "\n",
    "**Steps**\n",
    "\n",
    "1. Defining the functions such as ProbDist(), such_that() and p()\n",
    "2. Extracted the data of the top two skaters from https://skatingscores.com/isu/ for US, Canada, Russia, Italy, Japan, and China.\n",
    "3. Mentioned those 12 skaters list in the form of dictionary for both Mens and Womens.\n",
    "4. Imported pandas library and created data frame for both the Mens and Womens.\n"
   ]
  },
  {
   "cell_type": "markdown",
   "id": "5d5cd8cc-6660-471a-8171-0ac8b10f2b58",
   "metadata": {},
   "source": [
    "*Defining function:* **ProbDist(dict)**\n",
    "\n",
    "*A Probability Distribution; an {outcome: probability} mapping*"
   ]
  },
  {
   "cell_type": "code",
   "execution_count": 244,
   "id": "7f0a4e3f-a023-4317-8c76-b92b51961d0b",
   "metadata": {},
   "outputs": [],
   "source": [
    "class ProbDist(dict):\n",
    "    def __init__(self, mapping=(), **kwargs):\n",
    "        self.update(mapping, **kwargs)\n",
    "        # Make probabilities sum to 1.0; assert no negative probabilities\n",
    "        total = sum(self.values())\n",
    "        for outcome in self:\n",
    "            self[outcome] = self[outcome] / total\n",
    "            assert self[outcome] >= 0"
   ]
  },
  {
   "cell_type": "markdown",
   "id": "d1c59797-918d-4449-9fdc-53a3457cd6f2",
   "metadata": {},
   "source": [
    "*Defining function:* **such_that(predicate, space)**\n",
    "\n",
    "*The outcomes in the sample pace for which the predicate is true.\n",
    "    If space is a set, return a subset {outcome,...} with outcomes where predicate(element) is true;\n",
    "    if space is a ProbDist, return a ProbDist {outcome: frequency,...} with outcomes where predicate(element) is true.*"
   ]
  },
  {
   "cell_type": "code",
   "execution_count": 245,
   "id": "c2e0fbdc-a369-49a2-b30a-41fd47d0a17d",
   "metadata": {},
   "outputs": [],
   "source": [
    "def such_that(predicate, space): \n",
    "    \n",
    "    if isinstance(space, ProbDist):\n",
    "        return ProbDist({o:space[o] for o in space if predicate(o)})\n",
    "    else:\n",
    "        return {o for o in space if predicate(o)}"
   ]
  },
  {
   "cell_type": "markdown",
   "id": "1dffcde2-d04a-4aeb-b570-2d157f87dc2f",
   "metadata": {},
   "source": [
    "*Defining function:* **p(event, space)**\n",
    "\n",
    "*The probability of an event, given a sample space of equiprobable outcomes. \n",
    "    event: a collection of outcomes, or a predicate that is true of outcomes in the event. \n",
    "    space: a set of outcomes or a probability distribution of {outcome: frequency} pairs*"
   ]
  },
  {
   "cell_type": "code",
   "execution_count": 246,
   "id": "ec2b3ccb-c2bb-4a0c-a37a-84d36da3fe0f",
   "metadata": {},
   "outputs": [],
   "source": [
    "def p(event, space): \n",
    "\n",
    "    # branch on the type of the first argument\n",
    "    if callable(event):\n",
    "        # transform the mapping (untangible) 'event' into the collection (tangible) 'event'\n",
    "        event = such_that(event, space)\n",
    "        \n",
    "    if isinstance(space, ProbDist):\n",
    "        # if space is a dictionary of distinct probabilities, where each item does not count as the same amount\n",
    "        return sum(space[o] for o in space if o in event)\n",
    "    else:\n",
    "        # space is not a dictionary but a collection, let's fall back to our original division\n",
    "        return Fraction(len(event & space), len(space))\n"
   ]
  },
  {
   "cell_type": "markdown",
   "id": "58bff863-d41a-4710-bacd-62ce7f2b3b61",
   "metadata": {},
   "source": [
    "**Data Set of Mens Skaters**\n",
    "\n",
    "*Explictly mentioning the values of the top 12 mens skaters in the Olympics*\n",
    "\n",
    "*The data has been taken from the specified https://skatingscores.com/isu/*"
   ]
  },
  {
   "cell_type": "markdown",
   "id": "6bd5ec8f-bc63-4d1e-a512-720945dd9371",
   "metadata": {},
   "source": [
    "*Printing out the details of the mens skaters*"
   ]
  },
  {
   "cell_type": "code",
   "execution_count": 247,
   "id": "2eceddb3-831d-4fb8-94c7-6f3c1de790bb",
   "metadata": {},
   "outputs": [
    {
     "data": {
      "text/html": [
       "<div>\n",
       "<style scoped>\n",
       "    .dataframe tbody tr th:only-of-type {\n",
       "        vertical-align: middle;\n",
       "    }\n",
       "\n",
       "    .dataframe tbody tr th {\n",
       "        vertical-align: top;\n",
       "    }\n",
       "\n",
       "    .dataframe thead th {\n",
       "        text-align: right;\n",
       "    }\n",
       "</style>\n",
       "<table border=\"1\" class=\"dataframe\">\n",
       "  <thead>\n",
       "    <tr style=\"text-align: right;\">\n",
       "      <th></th>\n",
       "      <th>Nat</th>\n",
       "      <th>Skater</th>\n",
       "      <th>MeanEventTotal</th>\n",
       "    </tr>\n",
       "  </thead>\n",
       "  <tbody>\n",
       "    <tr>\n",
       "      <th>0</th>\n",
       "      <td>US</td>\n",
       "      <td>Nathan Chen</td>\n",
       "      <td>288.28</td>\n",
       "    </tr>\n",
       "    <tr>\n",
       "      <th>1</th>\n",
       "      <td>US</td>\n",
       "      <td>Vincent Zhou</td>\n",
       "      <td>280.16</td>\n",
       "    </tr>\n",
       "    <tr>\n",
       "      <th>2</th>\n",
       "      <td>JP</td>\n",
       "      <td>Yuma Kagiyama</td>\n",
       "      <td>282.22</td>\n",
       "    </tr>\n",
       "    <tr>\n",
       "      <th>3</th>\n",
       "      <td>JP</td>\n",
       "      <td>Shoma Uno</td>\n",
       "      <td>280.42</td>\n",
       "    </tr>\n",
       "    <tr>\n",
       "      <th>4</th>\n",
       "      <td>RU</td>\n",
       "      <td>Mikhail Kolyada</td>\n",
       "      <td>265.05</td>\n",
       "    </tr>\n",
       "    <tr>\n",
       "      <th>5</th>\n",
       "      <td>RU</td>\n",
       "      <td>Mark Kondratiuk</td>\n",
       "      <td>252.40</td>\n",
       "    </tr>\n",
       "    <tr>\n",
       "      <th>6</th>\n",
       "      <td>IT</td>\n",
       "      <td>Daniel Grassl</td>\n",
       "      <td>251.13</td>\n",
       "    </tr>\n",
       "    <tr>\n",
       "      <th>7</th>\n",
       "      <td>IT</td>\n",
       "      <td>Matteo Rizzo</td>\n",
       "      <td>248.35</td>\n",
       "    </tr>\n",
       "    <tr>\n",
       "      <th>8</th>\n",
       "      <td>CA</td>\n",
       "      <td>Keegan Messing</td>\n",
       "      <td>247.26</td>\n",
       "    </tr>\n",
       "    <tr>\n",
       "      <th>9</th>\n",
       "      <td>CA</td>\n",
       "      <td>Roman Sadovsky</td>\n",
       "      <td>226.38</td>\n",
       "    </tr>\n",
       "    <tr>\n",
       "      <th>10</th>\n",
       "      <td>CN</td>\n",
       "      <td>Boyang Jin</td>\n",
       "      <td>242.27</td>\n",
       "    </tr>\n",
       "    <tr>\n",
       "      <th>11</th>\n",
       "      <td>CN</td>\n",
       "      <td>Yudong Chen</td>\n",
       "      <td>200.96</td>\n",
       "    </tr>\n",
       "  </tbody>\n",
       "</table>\n",
       "</div>"
      ],
      "text/plain": [
       "   Nat           Skater  MeanEventTotal\n",
       "0   US      Nathan Chen          288.28\n",
       "1   US     Vincent Zhou          280.16\n",
       "2   JP    Yuma Kagiyama          282.22\n",
       "3   JP        Shoma Uno          280.42\n",
       "4   RU  Mikhail Kolyada          265.05\n",
       "5   RU  Mark Kondratiuk          252.40\n",
       "6   IT    Daniel Grassl          251.13\n",
       "7   IT     Matteo Rizzo          248.35\n",
       "8   CA   Keegan Messing          247.26\n",
       "9   CA   Roman Sadovsky          226.38\n",
       "10  CN       Boyang Jin          242.27\n",
       "11  CN      Yudong Chen          200.96"
      ]
     },
     "execution_count": 247,
     "metadata": {},
     "output_type": "execute_result"
    }
   ],
   "source": [
    "import pandas as pd\n",
    "men_record = { \n",
    " 'Nat' : ['US','US', 'JP', 'JP', 'RU', 'RU', 'IT', 'IT', 'CA', 'CA', 'CN', 'CN'] ,\n",
    " 'Skater' : ['Nathan Chen', 'Vincent Zhou', 'Yuma Kagiyama', 'Shoma Uno', 'Mikhail Kolyada', 'Mark Kondratiuk', 'Daniel Grassl', 'Matteo Rizzo',\n",
    "            'Keegan Messing', 'Roman Sadovsky', 'Boyang Jin', 'Yudong Chen'], \n",
    " 'MeanEventTotal' : [288.28, 280.16, 282.22, 280.42, 265.05, 252.40, 251.13, 248.35, 247.26, 226.38, 242.27, 200.96]     } \n",
    "\n",
    "df_men = pd.DataFrame(men_record)\n",
    "\n",
    "df_men"
   ]
  },
  {
   "cell_type": "markdown",
   "id": "152093ba-b367-4c5a-a07a-0acfbbb2c913",
   "metadata": {},
   "source": [
    "**Data Set of Womens Skaters**\n",
    "\n",
    "*Explictly mentioning the values of the top 12 womens skaters in the Olympics*\n",
    "\n",
    "*The data has been taken from the specified https://skatingscores.com/isu/*"
   ]
  },
  {
   "cell_type": "code",
   "execution_count": 248,
   "id": "6d3b42e3-be7e-4cc8-a143-093ae325fc5d",
   "metadata": {},
   "outputs": [
    {
     "data": {
      "text/html": [
       "<div>\n",
       "<style scoped>\n",
       "    .dataframe tbody tr th:only-of-type {\n",
       "        vertical-align: middle;\n",
       "    }\n",
       "\n",
       "    .dataframe tbody tr th {\n",
       "        vertical-align: top;\n",
       "    }\n",
       "\n",
       "    .dataframe thead th {\n",
       "        text-align: right;\n",
       "    }\n",
       "</style>\n",
       "<table border=\"1\" class=\"dataframe\">\n",
       "  <thead>\n",
       "    <tr style=\"text-align: right;\">\n",
       "      <th></th>\n",
       "      <th>Nat</th>\n",
       "      <th>Skater</th>\n",
       "      <th>MeanEventTotal</th>\n",
       "    </tr>\n",
       "  </thead>\n",
       "  <tbody>\n",
       "    <tr>\n",
       "      <th>0</th>\n",
       "      <td>US</td>\n",
       "      <td>Alysa Liu</td>\n",
       "      <td>209.02</td>\n",
       "    </tr>\n",
       "    <tr>\n",
       "      <th>1</th>\n",
       "      <td>US</td>\n",
       "      <td>Isabeau Levito</td>\n",
       "      <td>205.33</td>\n",
       "    </tr>\n",
       "    <tr>\n",
       "      <th>2</th>\n",
       "      <td>JP</td>\n",
       "      <td>Kaori Sakamoto</td>\n",
       "      <td>219.64</td>\n",
       "    </tr>\n",
       "    <tr>\n",
       "      <th>3</th>\n",
       "      <td>JP</td>\n",
       "      <td>Mai Mihara</td>\n",
       "      <td>214.33</td>\n",
       "    </tr>\n",
       "    <tr>\n",
       "      <th>4</th>\n",
       "      <td>RU</td>\n",
       "      <td>Kamila Valieva</td>\n",
       "      <td>261.52</td>\n",
       "    </tr>\n",
       "    <tr>\n",
       "      <th>5</th>\n",
       "      <td>RU</td>\n",
       "      <td>Anna Shcherbakova</td>\n",
       "      <td>234.63</td>\n",
       "    </tr>\n",
       "    <tr>\n",
       "      <th>6</th>\n",
       "      <td>IT</td>\n",
       "      <td>Lara Naki Gutmann</td>\n",
       "      <td>166.98</td>\n",
       "    </tr>\n",
       "    <tr>\n",
       "      <th>7</th>\n",
       "      <td>IT</td>\n",
       "      <td>Lucrezia Beccari</td>\n",
       "      <td>148.29</td>\n",
       "    </tr>\n",
       "    <tr>\n",
       "      <th>8</th>\n",
       "      <td>CA</td>\n",
       "      <td>Madeline Schizas</td>\n",
       "      <td>187.81</td>\n",
       "    </tr>\n",
       "    <tr>\n",
       "      <th>9</th>\n",
       "      <td>CA</td>\n",
       "      <td>Kaiya Ruiter</td>\n",
       "      <td>178.76</td>\n",
       "    </tr>\n",
       "    <tr>\n",
       "      <th>10</th>\n",
       "      <td>CN</td>\n",
       "      <td>Yi Zhu</td>\n",
       "      <td>171.25</td>\n",
       "    </tr>\n",
       "    <tr>\n",
       "      <th>11</th>\n",
       "      <td>CN</td>\n",
       "      <td>Shan Ashley Lin</td>\n",
       "      <td>157.85</td>\n",
       "    </tr>\n",
       "  </tbody>\n",
       "</table>\n",
       "</div>"
      ],
      "text/plain": [
       "   Nat             Skater  MeanEventTotal\n",
       "0   US          Alysa Liu          209.02\n",
       "1   US     Isabeau Levito          205.33\n",
       "2   JP     Kaori Sakamoto          219.64\n",
       "3   JP         Mai Mihara          214.33\n",
       "4   RU     Kamila Valieva          261.52\n",
       "5   RU  Anna Shcherbakova          234.63\n",
       "6   IT  Lara Naki Gutmann          166.98\n",
       "7   IT   Lucrezia Beccari          148.29\n",
       "8   CA   Madeline Schizas          187.81\n",
       "9   CA       Kaiya Ruiter          178.76\n",
       "10  CN             Yi Zhu          171.25\n",
       "11  CN    Shan Ashley Lin          157.85"
      ]
     },
     "execution_count": 248,
     "metadata": {},
     "output_type": "execute_result"
    }
   ],
   "source": [
    "import pandas as pd\n",
    "women_record = { \n",
    " 'Nat' : ['US','US', 'JP', 'JP', 'RU', 'RU', 'IT', 'IT', 'CA', 'CA', 'CN', 'CN'] ,\n",
    " 'Skater' : ['Alysa Liu', 'Isabeau Levito', 'Kaori Sakamoto', 'Mai Mihara', 'Kamila Valieva', 'Anna Shcherbakova', 'Lara Naki Gutmann', \n",
    "             'Lucrezia Beccari', 'Madeline Schizas', 'Kaiya Ruiter', 'Yi Zhu', 'Shan Ashley Lin'], \n",
    " 'MeanEventTotal' : [209.02, 205.33, 219.64, 214.33, 261.52, 234.63, 166.98, 148.29, 187.81, 178.76, 171.25, 157.85]     } \n",
    "\n",
    "df_women = pd.DataFrame(women_record)\n",
    "\n",
    "df_women"
   ]
  },
  {
   "cell_type": "markdown",
   "id": "37db99c3-cce8-4296-9818-63ad91e2a482",
   "metadata": {},
   "source": [
    "**Question1**\n",
    "\n",
    "**Probability Distribution with respect to each countries**\n",
    "\n",
    "*MENS Probability country-wise*\n",
    "\n",
    "*Sum the MeanEventTotal values*"
   ]
  },
  {
   "cell_type": "code",
   "execution_count": 249,
   "id": "e7502d46-d7de-4051-9280-7c6c09496427",
   "metadata": {},
   "outputs": [
    {
     "data": {
      "text/plain": [
       "{'US': 0.18333725890450395,\n",
       " 'JP': 0.18405694695244823,\n",
       " 'RU': 0.16927390018581037,\n",
       " 'IT': 0.1633953573578289,\n",
       " 'CA': 0.1549422941037921,\n",
       " 'CN': 0.14499424249561646}"
      ]
     },
     "execution_count": 249,
     "metadata": {},
     "output_type": "execute_result"
    }
   ],
   "source": [
    "MENS_COUNTRY = ProbDist(US=560.44, JP=562.64, RU=517.45, IT=499.48, CA=473.64, CN=443.23)\n",
    "MENS_COUNTRY"
   ]
  },
  {
   "cell_type": "markdown",
   "id": "7d770fdf-1c70-4776-81f5-f5f186ab7b40",
   "metadata": {},
   "source": [
    "*WOMENS Probabilty country-wise*"
   ]
  },
  {
   "cell_type": "code",
   "execution_count": 250,
   "id": "cf2c9b52-2d74-4d4d-a128-fa674ff5e39d",
   "metadata": {},
   "outputs": [
    {
     "data": {
      "text/plain": [
       "{'US': 0.17591417205497134,\n",
       " 'JP': 0.18424393205429207,\n",
       " 'RU': 0.21064273311228193,\n",
       " 'IT': 0.13384930861293787,\n",
       " 'CA': 0.15562895631758378,\n",
       " 'CN': 0.13972089784793307}"
      ]
     },
     "execution_count": 250,
     "metadata": {},
     "output_type": "execute_result"
    }
   ],
   "source": [
    "WOMENS_COUNTRY = ProbDist(US=414.35, JP=433.97, RU=496.15, IT=315.27, CA=366.57, CN=329.1)\n",
    "WOMENS_COUNTRY"
   ]
  },
  {
   "cell_type": "markdown",
   "id": "cc403879-ff45-4b32-8b01-27420d468c51",
   "metadata": {},
   "source": [
    "*Mean Total Values of the respective mens skaters*"
   ]
  },
  {
   "cell_type": "code",
   "execution_count": 251,
   "id": "829b3e86-4f0b-4617-8a3d-5c86c56b7735",
   "metadata": {},
   "outputs": [
    {
     "data": {
      "text/plain": [
       "{'US_NathanChen': 0.09405884061091915,\n",
       " 'US_VincentZhou': 0.09140947962243344,\n",
       " 'JP_YumaKagiyama': 0.09208160814906899,\n",
       " 'JP_ShomaUno': 0.09149431137822239,\n",
       " 'RU_MikhailKolyada': 0.08648271226699816,\n",
       " 'RU_MarkKondratiuk': 0.08235205831204383,\n",
       " 'IT_DanielGrassl': 0.08193768781261318,\n",
       " 'IT_MatteoRizzo': 0.08103064057763901,\n",
       " 'CA_KeeganMessing': 0.080674999755293,\n",
       " 'CA_RomanSadovsky': 0.07386235721347259,\n",
       " 'CN_BoyangJin': 0.07904688259611276,\n",
       " 'CN_YudongChen': 0.06556842170518355}"
      ]
     },
     "execution_count": 251,
     "metadata": {},
     "output_type": "execute_result"
    }
   ],
   "source": [
    "MENS = ProbDist(US_NathanChen = 288.28,\n",
    "               US_VincentZhou = 280.16,\n",
    "               JP_YumaKagiyama = 282.22,\n",
    "               JP_ShomaUno = 280.42,\n",
    "               RU_MikhailKolyada = 265.06,\n",
    "               RU_MarkKondratiuk = 252.40,\n",
    "               IT_DanielGrassl = 251.13,\n",
    "               IT_MatteoRizzo = 248.35,\n",
    "               CA_KeeganMessing = 247.26,\n",
    "               CA_RomanSadovsky = 226.38,\n",
    "               CN_BoyangJin = 242.27,\n",
    "               CN_YudongChen = 200.96)\n",
    "MENS"
   ]
  },
  {
   "cell_type": "markdown",
   "id": "8a2d49a7-4a63-475e-b3f8-58b8de78fb06",
   "metadata": {},
   "source": [
    "*Mean Total Values of the respective Womens skaters*"
   ]
  },
  {
   "cell_type": "code",
   "execution_count": 252,
   "id": "069d55e0-1bca-4dcc-abee-10e879f9b652",
   "metadata": {},
   "outputs": [
    {
     "data": {
      "text/plain": [
       "{'US_AlysaLiu': 0.08937749613019644,\n",
       " 'US_IsabeauLevito': 0.08779964252422368,\n",
       " 'JP_KaoriSakamoto': 0.09391863577665459,\n",
       " 'JP_MaiMihara': 0.09164806595342552,\n",
       " 'RU_kamilaValieva': 0.11182663280054046,\n",
       " 'RU_AnnaShcherbakova': 0.10032839879929187,\n",
       " 'IT_LaraNakiGutmann': 0.06993012973462981,\n",
       " 'IT_LucreziaBeccari': 0.06340919003514892,\n",
       " 'CA_MadelineSchizas': 0.08030804491537744,\n",
       " 'CA_GabrielleDaleman': 0.0707297466026973,\n",
       " 'CN_Yizhu': 0.07322694580564605,\n",
       " 'CN_ShanAshleyLin': 0.06749707092216777}"
      ]
     },
     "execution_count": 252,
     "metadata": {},
     "output_type": "execute_result"
    }
   ],
   "source": [
    "WOMENS = ProbDist( US_AlysaLiu = 209.02,\n",
    "                   US_IsabeauLevito = 205.33,\n",
    "                   JP_KaoriSakamoto = 219.64,\n",
    "                   JP_MaiMihara = 214.33,\n",
    "                   RU_kamilaValieva = 261.52,\n",
    "                   RU_AnnaShcherbakova = 234.63,\n",
    "                   IT_LaraNakiGutmann = 163.54,\n",
    "                   IT_LucreziaBeccari = 148.29,\n",
    "                   CA_MadelineSchizas = 187.81,\n",
    "                   CA_GabrielleDaleman = 165.41,\n",
    "                   CN_Yizhu = 171.25,\n",
    "                   CN_ShanAshleyLin = 157.85 )\n",
    "\n",
    "WOMENS"
   ]
  },
  {
   "cell_type": "markdown",
   "id": "b4be2b2b-2a1f-4743-98ed-d66cceac6587",
   "metadata": {},
   "source": [
    "*Defining functions for the Mens category*"
   ]
  },
  {
   "cell_type": "code",
   "execution_count": 253,
   "id": "187256de-087d-45e3-bb69-ee4c2d004ee5",
   "metadata": {},
   "outputs": [],
   "source": [
    "def Mens_US(outcome):  \n",
    "    return outcome[:2] == 'US'\n",
    "\n",
    "def Mens_JP(outcome):  \n",
    "    return outcome[:2] == 'JP'\n",
    "\n",
    "def Mens_RU(outcome):  \n",
    "    return outcome[:2] == 'RU'\n",
    "\n",
    "def Mens_IT(outcome):  \n",
    "    return outcome[:2] == 'IT'\n",
    "\n",
    "def Mens_CA(outcome):  \n",
    "    return outcome[:2] == 'CA'\n",
    "\n",
    "def Mens_CN(outcome):  \n",
    "    return outcome[:2] == 'CN'"
   ]
  },
  {
   "cell_type": "code",
   "execution_count": 254,
   "id": "503a62f8-5284-415c-97b8-9645234fb42d",
   "metadata": {},
   "outputs": [
    {
     "name": "stdout",
     "output_type": "stream",
     "text": [
      "Probabilty of US Mens winning:  0.18546832023335258\n",
      "Probabilty of JP Mens winning:  0.18357591952729138\n",
      "Probabilty of RU Mens winning:  0.168834770579042\n",
      "Probabilty of IT Mens winning:  0.1629683283902522\n",
      "Probabilty of CA Mens winning:  0.15453735696876558\n",
      "Probabilty of CN Mens winning:  0.14461530430129632\n"
     ]
    }
   ],
   "source": [
    "print(\"Probabilty of US Mens winning: \",p(Mens_US, MENS))\n",
    "print(\"Probabilty of JP Mens winning: \",p(Mens_JP, MENS))\n",
    "print(\"Probabilty of RU Mens winning: \",p(Mens_RU, MENS))\n",
    "print(\"Probabilty of IT Mens winning: \",p(Mens_IT, MENS))\n",
    "print(\"Probabilty of CA Mens winning: \",p(Mens_CA, MENS))\n",
    "print(\"Probabilty of CN Mens winning: \",p(Mens_CN, MENS))"
   ]
  },
  {
   "cell_type": "markdown",
   "id": "6ad11985-82ce-4522-8102-85837e94799d",
   "metadata": {},
   "source": [
    "*Defining functions for the Mens category*"
   ]
  },
  {
   "cell_type": "code",
   "execution_count": 255,
   "id": "9b8a8476-0a02-463e-9ecb-9276065a9c06",
   "metadata": {},
   "outputs": [],
   "source": [
    "def Womens_US(outcome):  \n",
    "    return outcome[:2] == 'US'\n",
    "\n",
    "def Womens_JP(outcome):  \n",
    "    return outcome[:2] == 'JP'\n",
    "\n",
    "def Womens_RU(outcome):  \n",
    "    return outcome[:2] == 'RU'\n",
    "\n",
    "def Womens_IT(outcome):  \n",
    "    return outcome[:2] == 'IT'\n",
    "\n",
    "def Womens_CA(outcome):  \n",
    "    return outcome[:2] == 'CA'\n",
    "\n",
    "def Womens_CN(outcome):  \n",
    "    return outcome[:2] == 'CN'"
   ]
  },
  {
   "cell_type": "code",
   "execution_count": 256,
   "id": "10b74d32-fc8a-43ca-8834-b43f2cb6dec3",
   "metadata": {},
   "outputs": [
    {
     "name": "stdout",
     "output_type": "stream",
     "text": [
      "Probabilty of US Womens winning:  0.1771771386544201\n",
      "Probabilty of JP Womens winning:  0.1855667017300801\n",
      "Probabilty of RU Womens winning:  0.21215503159983234\n",
      "Probabilty of IT Womens winning:  0.13333931976977872\n",
      "Probabilty of CA Womens winning:  0.15103779151807473\n",
      "Probabilty of CN Womens winning:  0.14072401672781382\n"
     ]
    }
   ],
   "source": [
    "print(\"Probabilty of US Womens winning: \",p(Womens_US, WOMENS))\n",
    "print(\"Probabilty of JP Womens winning: \",p(Womens_JP, WOMENS))\n",
    "print(\"Probabilty of RU Womens winning: \",p(Womens_RU, WOMENS))\n",
    "print(\"Probabilty of IT Womens winning: \",p(Womens_IT, WOMENS))\n",
    "print(\"Probabilty of CA Womens winning: \",p(Womens_CA, WOMENS))\n",
    "print(\"Probabilty of CN Womens winning: \",p(Womens_CN, WOMENS))"
   ]
  },
  {
   "cell_type": "markdown",
   "id": "319e0bf8-b5c6-41f2-8010-dbe2450088c9",
   "metadata": {},
   "source": [
    "*Probability of US Winning both the Mens and Womens skatting event*"
   ]
  },
  {
   "cell_type": "code",
   "execution_count": 257,
   "id": "a10826f9-f4b0-4e4a-bb09-d3b17a2c2cfe",
   "metadata": {},
   "outputs": [
    {
     "name": "stdout",
     "output_type": "stream",
     "text": [
      "Probabilty of US winning both Mens and Womens: 0.0328607462899871\n"
     ]
    }
   ],
   "source": [
    "p_both_US = p(Mens_US, MENS)*p(Womens_US, WOMENS)\n",
    "print(\"Probabilty of US winning both Mens and Womens:\",p_both_US)"
   ]
  },
  {
   "cell_type": "markdown",
   "id": "c3b8b00c-d488-484a-b93d-f64684ed276d",
   "metadata": {},
   "source": [
    "*Probability of US Winning at least one of the two events*"
   ]
  },
  {
   "cell_type": "code",
   "execution_count": 258,
   "id": "1a2eda51-281b-4d45-817d-006e01d25600",
   "metadata": {},
   "outputs": [
    {
     "name": "stdout",
     "output_type": "stream",
     "text": [
      "Probabilty of US winning at least one of the two events: 0.3297847125977855\n"
     ]
    }
   ],
   "source": [
    "#p_atleastone_US = 1 - ((1 - p(Mens_US, Total_Mens) * (1 - p(Womens_US, Total_Womens)))\n",
    "\n",
    "p_atleastone_US = 1 - (1-p(Mens_US, MENS))*(1-p(Womens_US, WOMENS))\n",
    "print(\"Probabilty of US winning at least one of the two events:\",p_atleastone_US)"
   ]
  },
  {
   "cell_type": "code",
   "execution_count": null,
   "id": "c8daa7ae-05f3-4359-92c2-2a78d5e66a32",
   "metadata": {},
   "outputs": [],
   "source": []
  },
  {
   "cell_type": "markdown",
   "id": "12e8ea63-3f7f-4728-abe5-3c998ef06ff1",
   "metadata": {},
   "source": [
    "**Question2**"
   ]
  },
  {
   "cell_type": "markdown",
   "id": "6953d5e7-c0d3-4b72-8314-676f41f1965a",
   "metadata": {},
   "source": [
    "*Defining the Win_womes(), Win_mens(), Win_both() and Win_atleastone() functions for predicting the winning probability of the each country*"
   ]
  },
  {
   "cell_type": "code",
   "execution_count": 259,
   "id": "d372403d-8768-4606-9f6a-ded6cfd211f3",
   "metadata": {},
   "outputs": [],
   "source": [
    "def Win_mens(outcome):\n",
    "    return outcome in ('WW', 'WL')\n",
    "\n",
    "def Win_womens(outcome):\n",
    "    return outcome in ('WW', 'LW')\n",
    "\n",
    "def Win_atleastone(outcome):  \n",
    "    return outcome in ('WW','WL','LW')\n",
    "\n",
    "def Win_both(outcome):  \n",
    "    return outcome == 'WW'"
   ]
  },
  {
   "cell_type": "markdown",
   "id": "5c8be1b6-4dce-4ebe-84f7-bc1ed380b6be",
   "metadata": {},
   "source": [
    "**US**"
   ]
  },
  {
   "cell_type": "code",
   "execution_count": 260,
   "id": "e3c971bb-ed66-4b45-a00c-4461c41120b7",
   "metadata": {},
   "outputs": [
    {
     "data": {
      "text/plain": [
       "{'WW': 0.0328607462899871,\n",
       " 'WL': 0.1526075739433655,\n",
       " 'LW': 0.144316392364433,\n",
       " 'LL': 0.6702152874022145}"
      ]
     },
     "execution_count": 260,
     "metadata": {},
     "output_type": "execute_result"
    }
   ],
   "source": [
    "US = ProbDist(WW = p(Mens_US, MENS)*p(Womens_US, WOMENS),\n",
    "              WL = p(Mens_US, MENS)*(1 - p(Womens_US, WOMENS)),\n",
    "              LW = (1 - p(Mens_US, MENS))*p(Womens_US, WOMENS),\n",
    "              LL = (1 - p(Mens_US, MENS))*(1 - p(Womens_US, WOMENS)) )\n",
    "\n",
    "US"
   ]
  },
  {
   "cell_type": "markdown",
   "id": "6528be00-d8d6-429d-b5f9-3e2ca93e0596",
   "metadata": {},
   "source": [
    "*Probability of US Mens winning the Skating*"
   ]
  },
  {
   "cell_type": "code",
   "execution_count": 261,
   "id": "4b75a3a1-fa5e-4031-9ee7-5b9bb812049d",
   "metadata": {},
   "outputs": [
    {
     "data": {
      "text/plain": [
       "0.18546832023335258"
      ]
     },
     "execution_count": 261,
     "metadata": {},
     "output_type": "execute_result"
    }
   ],
   "source": [
    "p(Mens_US, MENS)"
   ]
  },
  {
   "cell_type": "markdown",
   "id": "2ee3a9d0-89f8-46e2-a1d7-7e2cfb0dad12",
   "metadata": {},
   "source": [
    "*Probability of US Womens winning the Skating*"
   ]
  },
  {
   "cell_type": "code",
   "execution_count": 262,
   "id": "187b0f79-cbdb-4f57-a4be-eddb0cd1c28f",
   "metadata": {},
   "outputs": [
    {
     "data": {
      "text/plain": [
       "0.1771771386544201"
      ]
     },
     "execution_count": 262,
     "metadata": {},
     "output_type": "execute_result"
    }
   ],
   "source": [
    "p(Womens_US, WOMENS)"
   ]
  },
  {
   "cell_type": "markdown",
   "id": "2664b06a-d0c4-42d3-94c4-43669362309f",
   "metadata": {},
   "source": [
    "*If the US wins the men's event, what is the probability that the US wins the women's event*"
   ]
  },
  {
   "cell_type": "code",
   "execution_count": 263,
   "id": "68422f2d-b610-4aff-93f7-14cfa6b02ae3",
   "metadata": {},
   "outputs": [
    {
     "data": {
      "text/plain": [
       "0.1771771386544201"
      ]
     },
     "execution_count": 263,
     "metadata": {},
     "output_type": "execute_result"
    }
   ],
   "source": [
    "p(Win_womens, such_that(Win_mens, US))"
   ]
  },
  {
   "cell_type": "markdown",
   "id": "472fcca4-53c0-4840-ac73-acf3e0efcda1",
   "metadata": {},
   "source": [
    "*Probability of US winning both the events*"
   ]
  },
  {
   "cell_type": "code",
   "execution_count": 264,
   "id": "1e04d461-3f98-43b8-90d2-657bc9871876",
   "metadata": {},
   "outputs": [
    {
     "data": {
      "text/plain": [
       "0.09964302478163978"
      ]
     },
     "execution_count": 264,
     "metadata": {},
     "output_type": "execute_result"
    }
   ],
   "source": [
    "p(Win_both, such_that(Win_atleastone, US))"
   ]
  },
  {
   "cell_type": "markdown",
   "id": "4e5fce7a-5616-4ca1-8d20-849d614d67bd",
   "metadata": {},
   "source": [
    "**Canada**"
   ]
  },
  {
   "cell_type": "code",
   "execution_count": 265,
   "id": "399eb491-75ab-4cd1-8762-555f49cfba5a",
   "metadata": {},
   "outputs": [
    {
     "data": {
      "text/plain": [
       "{'WW': 0.02334098110360271,\n",
       " 'WL': 0.13119637586516286,\n",
       " 'LW': 0.127696810414472,\n",
       " 'LL': 0.7177658326167624}"
      ]
     },
     "execution_count": 265,
     "metadata": {},
     "output_type": "execute_result"
    }
   ],
   "source": [
    "CA = ProbDist(WW = p(Mens_CA, MENS)*p(Womens_CA, WOMENS),\n",
    "              WL = p(Mens_CA, MENS)*(1 - p(Womens_CA, WOMENS)),\n",
    "              LW = (1 - p(Mens_CA, MENS))*p(Womens_CA, WOMENS),\n",
    "              LL = (1 - p(Mens_CA, MENS))*(1 - p(Womens_CA, WOMENS)) )\n",
    "\n",
    "CA"
   ]
  },
  {
   "cell_type": "markdown",
   "id": "4265a38a-4f7c-46f5-9829-744ed3e7e249",
   "metadata": {},
   "source": [
    "*Probability of CA Mens winning the Skating*"
   ]
  },
  {
   "cell_type": "code",
   "execution_count": 266,
   "id": "5ac26d3c-65c8-4c18-8e1c-47c5fd6fd7b3",
   "metadata": {},
   "outputs": [
    {
     "data": {
      "text/plain": [
       "0.15453735696876558"
      ]
     },
     "execution_count": 266,
     "metadata": {},
     "output_type": "execute_result"
    }
   ],
   "source": [
    "p(Mens_CA, MENS)"
   ]
  },
  {
   "cell_type": "markdown",
   "id": "04426131-7d8f-417e-b612-b377fd5b2258",
   "metadata": {},
   "source": [
    "*Probability of CA Womens winning the Skating*"
   ]
  },
  {
   "cell_type": "code",
   "execution_count": 267,
   "id": "56823016-ff68-4813-a3b2-5004d2f4756b",
   "metadata": {},
   "outputs": [
    {
     "data": {
      "text/plain": [
       "0.15103779151807473"
      ]
     },
     "execution_count": 267,
     "metadata": {},
     "output_type": "execute_result"
    }
   ],
   "source": [
    "p(Womens_CA, WOMENS)"
   ]
  },
  {
   "cell_type": "markdown",
   "id": "29675370-825c-4d9d-bb47-9e5821ffdb39",
   "metadata": {},
   "source": [
    "*If the CA wins the men's event, what is the probability that the CA wins the women's event*"
   ]
  },
  {
   "cell_type": "code",
   "execution_count": 268,
   "id": "0b8c7487-07cd-4147-8480-eacb0621e520",
   "metadata": {},
   "outputs": [
    {
     "data": {
      "text/plain": [
       "0.15103779151807473"
      ]
     },
     "execution_count": 268,
     "metadata": {},
     "output_type": "execute_result"
    }
   ],
   "source": [
    "p(Win_womens, such_that(Win_mens, CA))"
   ]
  },
  {
   "cell_type": "markdown",
   "id": "0db72619-3efb-4025-bb7d-f83747778b6a",
   "metadata": {},
   "source": [
    "*Probability of CA winning both the events*"
   ]
  },
  {
   "cell_type": "code",
   "execution_count": 269,
   "id": "a2df5c9e-f6ed-4e6f-8587-82b47f729ebc",
   "metadata": {},
   "outputs": [
    {
     "data": {
      "text/plain": [
       "0.08270076341220824"
      ]
     },
     "execution_count": 269,
     "metadata": {},
     "output_type": "execute_result"
    }
   ],
   "source": [
    "p(Win_both, such_that(Win_atleastone, CA))"
   ]
  },
  {
   "cell_type": "code",
   "execution_count": null,
   "id": "c0585cd3-8f36-4b54-8218-63bb2e68d4d0",
   "metadata": {},
   "outputs": [],
   "source": []
  },
  {
   "cell_type": "markdown",
   "id": "00a133f1-3c42-4580-92ce-bf8a70575cbb",
   "metadata": {},
   "source": [
    "**China**"
   ]
  },
  {
   "cell_type": "code",
   "execution_count": 270,
   "id": "dd66bedc-ea8a-42f8-aa8f-4469f54effd2",
   "metadata": {},
   "outputs": [
    {
     "data": {
      "text/plain": [
       "{'WW': 0.020350846501593512,\n",
       " 'WL': 0.12426445779970281,\n",
       " 'LW': 0.12037317022622032,\n",
       " 'LL': 0.7350115254724834}"
      ]
     },
     "execution_count": 270,
     "metadata": {},
     "output_type": "execute_result"
    }
   ],
   "source": [
    "CN = ProbDist(WW = p(Mens_CN, MENS)*p(Womens_CN, WOMENS),\n",
    "              WL = p(Mens_CN, MENS)*(1 - p(Womens_CN, WOMENS)),\n",
    "              LW = (1 - p(Mens_CN, MENS))*p(Womens_CN, WOMENS),\n",
    "              LL = (1 - p(Mens_CN, MENS))*(1 - p(Womens_CN, WOMENS)) )\n",
    "\n",
    "CN"
   ]
  },
  {
   "cell_type": "markdown",
   "id": "93ae85e1-6728-4c2b-a133-e6b1babf1232",
   "metadata": {},
   "source": [
    "*Probability of CN Mens winning the Skating*"
   ]
  },
  {
   "cell_type": "code",
   "execution_count": 271,
   "id": "30a79dec-c532-4c3f-b07c-8d177f2ad36e",
   "metadata": {},
   "outputs": [
    {
     "data": {
      "text/plain": [
       "0.14461530430129632"
      ]
     },
     "execution_count": 271,
     "metadata": {},
     "output_type": "execute_result"
    }
   ],
   "source": [
    "p(Mens_CN, MENS)"
   ]
  },
  {
   "cell_type": "markdown",
   "id": "f422a1e4-12d1-49a5-88e9-956e9efe588b",
   "metadata": {},
   "source": [
    "*Probability of CN Womens winning the Skating*"
   ]
  },
  {
   "cell_type": "code",
   "execution_count": 272,
   "id": "7f72568e-7b17-48d8-94fc-6e13ce3e767f",
   "metadata": {},
   "outputs": [
    {
     "data": {
      "text/plain": [
       "0.14072401672781382"
      ]
     },
     "execution_count": 272,
     "metadata": {},
     "output_type": "execute_result"
    }
   ],
   "source": [
    "p(Womens_CN, WOMENS)"
   ]
  },
  {
   "cell_type": "markdown",
   "id": "657c5950-fbd8-410d-920f-66f907e9ed5b",
   "metadata": {},
   "source": [
    "*If the CN wins the men's event, what is the probability that the CN wins the women's event*"
   ]
  },
  {
   "cell_type": "code",
   "execution_count": 273,
   "id": "56a37389-0e83-48a2-9291-4007f079233b",
   "metadata": {},
   "outputs": [
    {
     "data": {
      "text/plain": [
       "0.14072401672781384"
      ]
     },
     "execution_count": 273,
     "metadata": {},
     "output_type": "execute_result"
    }
   ],
   "source": [
    "p(Win_womens, such_that(Win_mens, CN))"
   ]
  },
  {
   "cell_type": "markdown",
   "id": "8478fc91-5311-4e5e-9d66-71e54a06b5b4",
   "metadata": {},
   "source": [
    "*Probability of CN winning both the events*"
   ]
  },
  {
   "cell_type": "code",
   "execution_count": 274,
   "id": "9257f95f-beba-41b4-aecc-e27b81e6a21f",
   "metadata": {},
   "outputs": [
    {
     "data": {
      "text/plain": [
       "0.07679898734418453"
      ]
     },
     "execution_count": 274,
     "metadata": {},
     "output_type": "execute_result"
    }
   ],
   "source": [
    "p(Win_both, such_that(Win_atleastone, CN))"
   ]
  },
  {
   "cell_type": "markdown",
   "id": "aa7b74b2-2fc3-4172-aca4-bae72f7c2463",
   "metadata": {},
   "source": [
    "**Russia**"
   ]
  },
  {
   "cell_type": "code",
   "execution_count": 280,
   "id": "421fa201-6638-4977-8957-c614767f4c97",
   "metadata": {},
   "outputs": [
    {
     "data": {
      "text/plain": [
       "{'WW': 0.035819146087347105,\n",
       " 'WL': 0.13301562449169493,\n",
       " 'LW': 0.17633588551248525,\n",
       " 'LL': 0.6548293439084728}"
      ]
     },
     "execution_count": 280,
     "metadata": {},
     "output_type": "execute_result"
    }
   ],
   "source": [
    "RU = ProbDist(WW = p(Mens_RU, MENS)*p(Womens_RU, WOMENS),\n",
    "              WL = p(Mens_RU, MENS)*(1 - p(Womens_RU, WOMENS)),\n",
    "              LW = (1 - p(Mens_RU, MENS))*p(Womens_RU, WOMENS),\n",
    "              LL = (1 - p(Mens_RU, MENS))*(1 - p(Womens_RU, WOMENS)) )\n",
    "\n",
    "RU"
   ]
  },
  {
   "cell_type": "markdown",
   "id": "540a509d-c6cb-42be-8f6a-f1cd8a3cf9ac",
   "metadata": {},
   "source": [
    "*Probability of RU Mens winning the Skating*"
   ]
  },
  {
   "cell_type": "code",
   "execution_count": 281,
   "id": "f86ef2c5-94a9-4240-a4ca-04ca6140ccca",
   "metadata": {},
   "outputs": [
    {
     "data": {
      "text/plain": [
       "0.168834770579042"
      ]
     },
     "execution_count": 281,
     "metadata": {},
     "output_type": "execute_result"
    }
   ],
   "source": [
    "p(Mens_RU, MENS)"
   ]
  },
  {
   "cell_type": "markdown",
   "id": "6e86d1f4-66b7-4e5d-b093-8a7f36089e5a",
   "metadata": {},
   "source": [
    "*Probability of RU Womens winning the Skating*"
   ]
  },
  {
   "cell_type": "code",
   "execution_count": 282,
   "id": "782cbf62-58f4-4d00-9fc4-c02871fc7526",
   "metadata": {},
   "outputs": [
    {
     "data": {
      "text/plain": [
       "0.21215503159983234"
      ]
     },
     "execution_count": 282,
     "metadata": {},
     "output_type": "execute_result"
    }
   ],
   "source": [
    "p(Womens_RU, WOMENS)"
   ]
  },
  {
   "cell_type": "markdown",
   "id": "7037e35f-895b-4940-bd1c-29cc84a9f889",
   "metadata": {},
   "source": [
    "*If the RU wins the men's event, what is the probability that the RU wins the women's event*"
   ]
  },
  {
   "cell_type": "code",
   "execution_count": 283,
   "id": "47bacbce-9c67-423f-86f8-9225ce868b50",
   "metadata": {},
   "outputs": [
    {
     "data": {
      "text/plain": [
       "0.21215503159983234"
      ]
     },
     "execution_count": 283,
     "metadata": {},
     "output_type": "execute_result"
    }
   ],
   "source": [
    "p(Win_womens, such_that(Win_mens, RU))"
   ]
  },
  {
   "cell_type": "markdown",
   "id": "608ae4b4-b163-42b0-b180-e0a1f1cef8d6",
   "metadata": {},
   "source": [
    "*Probability of RU winning both the events*"
   ]
  },
  {
   "cell_type": "code",
   "execution_count": 284,
   "id": "a2f301fa-a685-4861-a67a-400fa45ef0a3",
   "metadata": {},
   "outputs": [
    {
     "data": {
      "text/plain": [
       "0.10377228033500364"
      ]
     },
     "execution_count": 284,
     "metadata": {},
     "output_type": "execute_result"
    }
   ],
   "source": [
    "p(Win_both, such_that(Win_atleastone, RU))"
   ]
  },
  {
   "cell_type": "markdown",
   "id": "29348099-bf40-4b61-be83-2f80f55e7704",
   "metadata": {},
   "source": [
    "**Japan**"
   ]
  },
  {
   "cell_type": "code",
   "execution_count": 285,
   "id": "4821950f-a325-4a74-a3ff-11dec01e30b4",
   "metadata": {},
   "outputs": [
    {
     "data": {
      "text/plain": [
       "{'WW': 0.03406557790374607,\n",
       " 'WL': 0.1495103416235453,\n",
       " 'LW': 0.15150112382633404,\n",
       " 'LL': 0.6649229566463746}"
      ]
     },
     "execution_count": 285,
     "metadata": {},
     "output_type": "execute_result"
    }
   ],
   "source": [
    "JP = ProbDist(WW = p(Mens_JP, MENS)*p(Womens_JP, WOMENS),\n",
    "              WL = p(Mens_JP, MENS)*(1 - p(Womens_JP, WOMENS)),\n",
    "              LW = (1 - p(Mens_JP, MENS))*p(Womens_JP, WOMENS),\n",
    "              LL = (1 - p(Mens_JP, MENS))*(1 - p(Womens_JP, WOMENS)) )\n",
    "\n",
    "JP"
   ]
  },
  {
   "cell_type": "markdown",
   "id": "6fb34a52-9a5b-44ad-b2a1-e6ea6ff13708",
   "metadata": {},
   "source": [
    "*Probability of JP Mens winning the Skating*"
   ]
  },
  {
   "cell_type": "code",
   "execution_count": 286,
   "id": "3bf83a94-104a-45a3-83de-345a5f946181",
   "metadata": {},
   "outputs": [
    {
     "data": {
      "text/plain": [
       "0.18357591952729138"
      ]
     },
     "execution_count": 286,
     "metadata": {},
     "output_type": "execute_result"
    }
   ],
   "source": [
    "p(Mens_JP, MENS)"
   ]
  },
  {
   "cell_type": "markdown",
   "id": "53e0e130-6644-4952-b4b4-dd3a1a7d4a7a",
   "metadata": {},
   "source": [
    "*Probability of JP Womens winning the Skating*"
   ]
  },
  {
   "cell_type": "code",
   "execution_count": 287,
   "id": "846ebef8-3098-4ca5-960c-f5b96cbdd8e6",
   "metadata": {},
   "outputs": [
    {
     "data": {
      "text/plain": [
       "0.1855667017300801"
      ]
     },
     "execution_count": 287,
     "metadata": {},
     "output_type": "execute_result"
    }
   ],
   "source": [
    "p(Womens_JP, WOMENS)"
   ]
  },
  {
   "cell_type": "markdown",
   "id": "5c55724b-1c70-4b36-a83a-ff6ff459cfb0",
   "metadata": {},
   "source": [
    "*If the JP wins the men's event, what is the probability that the JP wins the women's event*"
   ]
  },
  {
   "cell_type": "code",
   "execution_count": 288,
   "id": "aa0ab579-0e77-4073-8f4e-4d602ef333e1",
   "metadata": {},
   "outputs": [
    {
     "data": {
      "text/plain": [
       "0.18556670173008014"
      ]
     },
     "execution_count": 288,
     "metadata": {},
     "output_type": "execute_result"
    }
   ],
   "source": [
    "p(Win_womens, such_that(Win_mens, JP))"
   ]
  },
  {
   "cell_type": "markdown",
   "id": "272c4bd8-681e-4bb9-a770-ba801bb6f7d8",
   "metadata": {},
   "source": [
    "*Probability of JP winning both the events*"
   ]
  },
  {
   "cell_type": "code",
   "execution_count": 289,
   "id": "919e9bf2-e0f4-45aa-924a-a8158613c919",
   "metadata": {},
   "outputs": [
    {
     "data": {
      "text/plain": [
       "0.1016649113374048"
      ]
     },
     "execution_count": 289,
     "metadata": {},
     "output_type": "execute_result"
    }
   ],
   "source": [
    "p(Win_both, such_that(Win_atleastone, JP))"
   ]
  },
  {
   "cell_type": "markdown",
   "id": "309fecfd-0715-41d3-a415-a14d3efa3676",
   "metadata": {},
   "source": [
    "**Italy**"
   ]
  },
  {
   "cell_type": "code",
   "execution_count": 290,
   "id": "19671c0b-276a-47d7-a98a-49dc815efb16",
   "metadata": {},
   "outputs": [
    {
     "data": {
      "text/plain": [
       "{'WW': 0.021730086051574147,\n",
       " 'WL': 0.14123824233867807,\n",
       " 'LW': 0.1116092337182046,\n",
       " 'LL': 0.7254224378915433}"
      ]
     },
     "execution_count": 290,
     "metadata": {},
     "output_type": "execute_result"
    }
   ],
   "source": [
    "IT = ProbDist(WW = p(Mens_IT, MENS)*p(Womens_IT, WOMENS),\n",
    "              WL = p(Mens_IT, MENS)*(1 - p(Womens_IT, WOMENS)),\n",
    "              LW = (1 - p(Mens_IT, MENS))*p(Womens_IT, WOMENS),\n",
    "              LL = (1 - p(Mens_IT, MENS))*(1 - p(Womens_IT, WOMENS)) )\n",
    "\n",
    "IT"
   ]
  },
  {
   "cell_type": "markdown",
   "id": "8bbe6cd6-1cf8-408e-8ff1-da07a77b034a",
   "metadata": {},
   "source": [
    "*Probability of IT Mens winning the Skating*"
   ]
  },
  {
   "cell_type": "code",
   "execution_count": 291,
   "id": "4c7d841c-fa66-4922-9b5e-ceab0a33c16b",
   "metadata": {},
   "outputs": [
    {
     "data": {
      "text/plain": [
       "0.1629683283902522"
      ]
     },
     "execution_count": 291,
     "metadata": {},
     "output_type": "execute_result"
    }
   ],
   "source": [
    "p(Mens_IT, MENS)"
   ]
  },
  {
   "cell_type": "markdown",
   "id": "200835d3-9279-4f96-baf0-42a80dc1c085",
   "metadata": {},
   "source": [
    "*Probability of IT Womens winning the Skating*"
   ]
  },
  {
   "cell_type": "code",
   "execution_count": 292,
   "id": "9b92af57-dc53-4b2d-b765-1c483d92aa71",
   "metadata": {},
   "outputs": [
    {
     "data": {
      "text/plain": [
       "0.13333931976977872"
      ]
     },
     "execution_count": 292,
     "metadata": {},
     "output_type": "execute_result"
    }
   ],
   "source": [
    "p(Womens_IT, WOMENS)"
   ]
  },
  {
   "cell_type": "markdown",
   "id": "b5e93b98-61ec-453d-b32b-ce6e909421fa",
   "metadata": {},
   "source": [
    "*If the IT wins the men's event, what is the probability that the IT wins the women's event*"
   ]
  },
  {
   "cell_type": "code",
   "execution_count": 293,
   "id": "d0e2c1ff-2749-46f3-8638-47719bf9627a",
   "metadata": {},
   "outputs": [
    {
     "data": {
      "text/plain": [
       "0.13333931976977872"
      ]
     },
     "execution_count": 293,
     "metadata": {},
     "output_type": "execute_result"
    }
   ],
   "source": [
    "p(Win_womens, such_that(Win_mens, IT))"
   ]
  },
  {
   "cell_type": "markdown",
   "id": "18ba462b-192f-420f-85d9-5c8e9c478f66",
   "metadata": {},
   "source": [
    "*Probability of IT winning both the events*"
   ]
  },
  {
   "cell_type": "code",
   "execution_count": 294,
   "id": "2d57fdf8-ade2-4fed-a1e2-6a57c00d09ef",
   "metadata": {},
   "outputs": [
    {
     "data": {
      "text/plain": [
       "0.07914006477700049"
      ]
     },
     "execution_count": 294,
     "metadata": {},
     "output_type": "execute_result"
    }
   ],
   "source": [
    "p(Win_both, such_that(Win_atleastone, IT))"
   ]
  },
  {
   "cell_type": "markdown",
   "id": "64ec8339-1478-48af-987a-a00b1b82294c",
   "metadata": {},
   "source": [
    "*Nations are more likely to win both events if they win one of them:*\n",
    "\n",
    "* **Russia** followed by **Japan** are more likely to win both events if they win any one of them*"
   ]
  },
  {
   "cell_type": "code",
   "execution_count": null,
   "id": "dc3178c1-fa2f-426e-b3f3-aec88cfb148a",
   "metadata": {},
   "outputs": [],
   "source": []
  },
  {
   "cell_type": "markdown",
   "id": "3a709290-ac2c-4c48-83c9-a61d1a8b530b",
   "metadata": {},
   "source": [
    "**Question 3**"
   ]
  },
  {
   "cell_type": "markdown",
   "id": "188c921d-7e9d-40ea-8274-9315064e5a26",
   "metadata": {},
   "source": [
    "*The US wins at least one of these two events the same day that the US team of the same sex wins the hockey event gold medal. \n",
    "What is the probability the US wins both events assuming that \n",
    "the teams in contention to win the gold medal for the hockey event for both men and women are \n",
    "USA, China, Russia, Canada, and Japan and that men and women teams have the same probability to win hockey gold?*"
   ]
  },
  {
   "cell_type": "markdown",
   "id": "5dd510bd-3cb8-4ec5-ac54-8505ba8b1e1c",
   "metadata": {},
   "source": [
    "*Finding the probablity distribution of the both Skating and Hockey event*\n",
    "\n",
    "*Since its mentioned as men and women teams have the same probability to win hockey gold*\n",
    "\n",
    "For Hockey event:\n",
    "\n",
    "p(Win)  = 50/100 = 0.2\n",
    "\n",
    "p(Loss) = 1 - p(Win) = 0.8\n",
    "\n",
    "*Since there are two events occuring, the total set will have 16 possibilities*"
   ]
  },
  {
   "cell_type": "markdown",
   "id": "28f9ea80-ad1c-4207-b208-2e527a505444",
   "metadata": {},
   "source": [
    "**US**"
   ]
  },
  {
   "cell_type": "code",
   "execution_count": 295,
   "id": "7d330857-9a54-45ee-bbd5-023baa236c47",
   "metadata": {},
   "outputs": [],
   "source": [
    "Skating_Hockey = ProbDist(\n",
    "   \n",
    "    WWWW = p(Mens_US, MENS) * p(Womens_US, WOMENS) * 0.2 * 0.2,\n",
    "    WWWL = p(Mens_US, MENS) * p(Womens_US, WOMENS) * 0.2 * 0.8,\n",
    "    WWLW = p(Mens_US, MENS) * p(Womens_US, WOMENS) * 0.8 * 0.2,\n",
    "    WWLL = p(Mens_US, MENS) * p(Womens_US, WOMENS) * 0.8 * 0.8,\n",
    "    WLWW = p(Mens_US, MENS) * (1-p(Womens_US, WOMENS)) * 0.2 * 0.2,\n",
    "    WLWL = p(Mens_US, MENS) * (1-p(Womens_US, WOMENS)) * 0.2 * 0.8,\n",
    "    WLLW = p(Mens_US, MENS) * (1-p(Womens_US, WOMENS)) * 0.8 * 0.2,\n",
    "    WLLL = p(Mens_US, MENS) * (1-p(Womens_US, WOMENS)) * 0.8 * 0.8,\n",
    "    LWWW = (1-p(Mens_US, MENS)) * p(Womens_US, WOMENS) * 0.2 * 0.2,\n",
    "    LWWL = (1-p(Mens_US, MENS)) * p(Womens_US, WOMENS) * 0.2 * 0.8,\n",
    "    LWLW = (1-p(Mens_US, MENS)) * p(Womens_US, WOMENS) * 0.8 * 0.2,\n",
    "    LWLL = (1-p(Mens_US, MENS)) * p(Womens_US, WOMENS) * 0.8 * 0.8,\n",
    "    LLWW = (1-p(Mens_US, MENS)) * (1-p(Womens_US, WOMENS)) *0.2 * 0.2,\n",
    "    LLWL = (1-p(Mens_US, MENS)) * (1-p(Womens_US, WOMENS)) *0.2 * 0.8,\n",
    "    LLLW = (1-p(Mens_US, MENS)) * (1-p(Womens_US, WOMENS)) *0.8 * 0.2,\n",
    "    LLLL = (1-p(Mens_US, MENS)) * (1-p(Womens_US, WOMENS)) *0.8 * 0.8 )"
   ]
  },
  {
   "cell_type": "markdown",
   "id": "364f6b56-d843-40e6-b50c-e5d324cee803",
   "metadata": {},
   "source": [
    "*Probability Distribution*"
   ]
  },
  {
   "cell_type": "code",
   "execution_count": 299,
   "id": "9dda0be9-360b-483a-b09d-28b76216ab5e",
   "metadata": {},
   "outputs": [
    {
     "data": {
      "text/plain": [
       "{'WWWW': 0.001314429851599484,\n",
       " 'WWWL': 0.005257719406397936,\n",
       " 'WWLW': 0.005257719406397936,\n",
       " 'WWLL': 0.021030877625591745,\n",
       " 'WLWW': 0.006104302957734618,\n",
       " 'WLWL': 0.024417211830938472,\n",
       " 'WLLW': 0.024417211830938472,\n",
       " 'WLLL': 0.09766884732375389,\n",
       " 'LWWW': 0.00577265569457732,\n",
       " 'LWWL': 0.02309062277830928,\n",
       " 'LWLW': 0.02309062277830928,\n",
       " 'LWLL': 0.09236249111323712,\n",
       " 'LLWW': 0.026808611496088576,\n",
       " 'LLWL': 0.1072344459843543,\n",
       " 'LLLW': 0.1072344459843543,\n",
       " 'LLLL': 0.4289377839374172}"
      ]
     },
     "execution_count": 299,
     "metadata": {},
     "output_type": "execute_result"
    }
   ],
   "source": [
    "Skating_Hockey"
   ]
  },
  {
   "cell_type": "markdown",
   "id": "5049911c-881a-4e3c-9623-b651cdf39f02",
   "metadata": {},
   "source": [
    "*Defining functions for win_both() events, and Win_atleastone() events in both hockey and skating*"
   ]
  },
  {
   "cell_type": "code",
   "execution_count": 301,
   "id": "75c6f84d-a53b-4a05-bffe-dcd545989607",
   "metadata": {},
   "outputs": [],
   "source": [
    "def Win_both(outcome):  \n",
    "    return (outcome[0] == 'W' and outcome[2] == 'W') or (outcome[1] == 'W' and outcome[3] == 'W')\n",
    "\n",
    "def Win_atleastone(outcome):  \n",
    "    return outcome[0:2] in ('WL','LW','WW')"
   ]
  },
  {
   "cell_type": "markdown",
   "id": "6582d7a3-4f65-4e61-a19e-db396cb7dd51",
   "metadata": {},
   "source": [
    "*Probability the US wins both events assuming that the teams in contention to win the gold medal for the hockey event for both men and women*"
   ]
  },
  {
   "cell_type": "code",
   "execution_count": 302,
   "id": "e1f4951b-28a0-49e6-ac44-e96dbefa8343",
   "metadata": {},
   "outputs": [
    {
     "data": {
      "text/plain": [
       "0.21594288396506234"
      ]
     },
     "execution_count": 302,
     "metadata": {},
     "output_type": "execute_result"
    }
   ],
   "source": [
    "p(Win_both, such_that(Win_atleastone, Skating_Hockey))"
   ]
  },
  {
   "cell_type": "markdown",
   "id": "0932cd7a-ecfe-4055-9f9e-48b30b7f7711",
   "metadata": {},
   "source": [
    "*Thank you!*"
   ]
  },
  {
   "cell_type": "code",
   "execution_count": null,
   "id": "012fb595-2ec6-41f4-8219-8f82653e44b7",
   "metadata": {},
   "outputs": [],
   "source": []
  }
 ],
 "metadata": {
  "kernelspec": {
   "display_name": "Python 3 (ipykernel)",
   "language": "python",
   "name": "python3"
  },
  "language_info": {
   "codemirror_mode": {
    "name": "ipython",
    "version": 3
   },
   "file_extension": ".py",
   "mimetype": "text/x-python",
   "name": "python",
   "nbconvert_exporter": "python",
   "pygments_lexer": "ipython3",
   "version": "3.9.7"
  }
 },
 "nbformat": 4,
 "nbformat_minor": 5
}
